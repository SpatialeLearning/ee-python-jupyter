{
 "cells": [
  {
   "cell_type": "markdown",
   "metadata": {},
   "source": [
    "### Install the Earth Engine Python API"
   ]
  },
  {
   "cell_type": "markdown",
   "metadata": {},
   "source": [
    "##### Sign up for an Earth Engine account if you do not have one yet. \n",
    "\n",
    "https://signup.earthengine.google.com\n",
    "\n",
    "##### Download Anaconda or Miniconda \n",
    "\n",
    "Anaconda: \n",
    "\n",
    "https://www.anaconda.com/\n",
    "\n",
    "Miniconda:\n",
    "\n",
    "https://docs.conda.io/en/latest/miniconda.html\n",
    "\n",
    "##### Set up a conda environment\n",
    "\n",
    "conda create -n gee python=3.8\n",
    "\n",
    "conda activate gee\n",
    "\n",
    "\n",
    "Google Earth Engine\n",
    "https://earthengine.google.com/\n"
   ]
  },
  {
   "cell_type": "code",
   "execution_count": 7,
   "metadata": {},
   "outputs": [],
   "source": [
    "!pip install geemap"
   ]
  },
  {
   "cell_type": "code",
   "execution_count": 2,
   "metadata": {},
   "outputs": [],
   "source": [
    "#Import libraries.\n",
    "import ee\n",
    "import geemap"
   ]
  },
  {
   "cell_type": "code",
   "execution_count": 4,
   "metadata": {},
   "outputs": [],
   "source": [
    "#Authenticate and initialize ee\n",
    "ee.Authenticate()\n",
    "ee.Initialize()"
   ]
  },
  {
   "cell_type": "code",
   "execution_count": 3,
   "metadata": {},
   "outputs": [
    {
     "data": {
      "application/vnd.jupyter.widget-view+json": {
       "model_id": "7536e49bc2764f90926daf18ec1f1d6b",
       "version_major": 2,
       "version_minor": 0
      },
      "text/plain": [
       "Map(center=[-26.56458148548865, 31.497700494046793], controls=(WidgetControl(options=['position', 'transparent…"
      ]
     },
     "metadata": {},
     "output_type": "display_data"
    }
   ],
   "source": [
    "Map = geemap.Map()\n",
    "\n",
    "#Load countries data\n",
    "countries = ee.FeatureCollection(\"USDOS/LSIB_SIMPLE/2017\");\n",
    "roi = countries.filter(ee.Filter.eq(\"country_na\",\"Swaziland\"));\n",
    "\n",
    "landsat = ee.ImageCollection(\"LANDSAT/LC08/C01/T1\") \\\n",
    "    .filterDate('2016-01-01', '2017-01-01') \\\n",
    "    .filterBounds(roi)\n",
    "\n",
    "composite = ee.Algorithms.Landsat.simpleComposite(**{\n",
    "  'collection': landsat,\n",
    "  'asFloat': True\n",
    "})\n",
    "\n",
    "rgbVis = {'bands': [\"B4\", \"B3\", \"B2\"], 'min':0, 'max': 0.3}\n",
    "nirVis = {'bands': [\"B5\", \"B4\", \"B3\"], 'min':0, 'max': [0.5, 0.3, 0.3]}\n",
    "\n",
    "Map.addLayer(composite.clip(roi), rgbVis, \"RGB\")\n",
    "Map.addLayer(composite.clip(roi), nirVis, \"False Color\")\n",
    "Map.centerObject(roi, 8)\n",
    "Map"
   ]
  },
  {
   "cell_type": "code",
   "execution_count": 6,
   "metadata": {},
   "outputs": [],
   "source": [
    "#Watch more video tutorials\n",
    "geemap.show_youtube('https://www.youtube.com/playlist?list=PLyJZ14_CYRrCCX6ob4XTzCUJwl2VKl0NL')"
   ]
  }
 ],
 "metadata": {
  "kernelspec": {
   "display_name": "Python 3 (ipykernel)",
   "language": "python",
   "name": "python3"
  },
  "language_info": {
   "codemirror_mode": {
    "name": "ipython",
    "version": 3
   },
   "file_extension": ".py",
   "mimetype": "text/x-python",
   "name": "python",
   "nbconvert_exporter": "python",
   "pygments_lexer": "ipython3",
   "version": "3.9.12"
  }
 },
 "nbformat": 4,
 "nbformat_minor": 2
}
