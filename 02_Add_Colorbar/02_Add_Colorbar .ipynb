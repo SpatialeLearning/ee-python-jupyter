{
 "cells": [
  {
   "cell_type": "markdown",
   "metadata": {},
   "source": [
    "### Add Colorbar "
   ]
  },
  {
   "cell_type": "markdown",
   "metadata": {},
   "source": [
    "##### Sign up for an Earth Engine account if you do not have one yet. \n",
    "\n",
    "https://signup.earthengine.google.com\n",
    "\n",
    "##### Download Anaconda or Miniconda \n",
    "\n",
    "Anaconda: \n",
    "\n",
    "https://www.anaconda.com/\n",
    "\n",
    "Miniconda:\n",
    "\n",
    "https://docs.conda.io/en/latest/miniconda.html\n",
    "\n",
    "##### Set up a conda environment\n",
    "\n",
    "conda create -n gee python=3.8\n",
    "\n",
    "conda activate gee"
   ]
  },
  {
   "cell_type": "code",
   "execution_count": 7,
   "metadata": {},
   "outputs": [],
   "source": [
    "#!pip install geemap"
   ]
  },
  {
   "cell_type": "code",
   "execution_count": 2,
   "metadata": {},
   "outputs": [],
   "source": [
    "#Import libraries.\n",
    "import ee\n",
    "import geemap"
   ]
  },
  {
   "cell_type": "code",
   "execution_count": 6,
   "metadata": {},
   "outputs": [],
   "source": [
    "#Authenticate and initialize ee\n",
    "#ee.Authenticate()\n",
    "#ee.Initialize()"
   ]
  },
  {
   "cell_type": "code",
   "execution_count": 12,
   "metadata": {
    "scrolled": false
   },
   "outputs": [
    {
     "data": {
      "application/vnd.jupyter.widget-view+json": {
       "model_id": "fa1fef9b781344918d159a4d4fe65681",
       "version_major": 2,
       "version_minor": 0
      },
      "text/plain": [
       "Map(center=[39.76850680995396, -99.05366228420321], controls=(WidgetControl(options=['position', 'transparent_…"
      ]
     },
     "metadata": {},
     "output_type": "display_data"
    }
   ],
   "source": [
    "Map = geemap.Map()\n",
    "Map\n",
    "#Load countries data\n",
    "countries = ee.FeatureCollection(\"USDOS/LSIB_SIMPLE/2017\");\n",
    "roi = countries.filter(ee.Filter.eq(\"country_na\",\"United States\"));\n",
    "\n",
    "dem = ee.Image('USGS/SRTMGL1_003').clip(roi)\n",
    "vis_params = {\n",
    "    'min': 0,\n",
    "    'max': 4000,\n",
    "    'palette': ['006633', 'E5FFCC', '662A00', 'D8D8D8', 'F5F5F5'],\n",
    "}\n",
    "\n",
    "Map.addLayer(dem, vis_params, 'SRTM DEM')\n",
    "Map.centerObject(roi, 4)\n",
    "Map\n",
    "\n",
    "colors = vis_params['palette']\n",
    "vmin = vis_params['min']\n",
    "vmax = vis_params['max']\n",
    "Map.add_colorbar(vis_params, label=\"Elevation (m)\", layer_name=\"SRTM DEM\") #horizontal orientation\n",
    "Map"
   ]
  },
  {
   "cell_type": "code",
   "execution_count": 13,
   "metadata": {},
   "outputs": [],
   "source": [
    "#vertical orientation\n",
    "Map.add_colorbar(vis_params, label=\"DEM (m)\", layer_name=\"SRTM DEM\", orientation=\"vertical\") "
   ]
  },
  {
   "cell_type": "code",
   "execution_count": 14,
   "metadata": {},
   "outputs": [],
   "source": [
    "# Add transparency to legend\n",
    "Map.add_colorbar(\n",
    "    vis_params,\n",
    "    label=\"Elevation (m)\",\n",
    "    layer_name=\"SRTM DEM\",\n",
    "    orientation=\"vertical\",\n",
    "    transparent_bg=True,\n",
    ")"
   ]
  },
  {
   "cell_type": "code",
   "execution_count": 15,
   "metadata": {},
   "outputs": [],
   "source": [
    "# Add classification to legend\n",
    "Map.add_colorbar(\n",
    "    vis_params,\n",
    "    label=\"Elevation (m)\",\n",
    "    layer_name=\"SRTM DEM\",\n",
    "    orientation=\"vertical\",\n",
    "    transparent_bg=True,\n",
    "    discrete=True,\n",
    ")"
   ]
  },
  {
   "cell_type": "code",
   "execution_count": null,
   "metadata": {},
   "outputs": [],
   "source": []
  }
 ],
 "metadata": {
  "kernelspec": {
   "display_name": "Python 3 (ipykernel)",
   "language": "python",
   "name": "python3"
  },
  "language_info": {
   "codemirror_mode": {
    "name": "ipython",
    "version": 3
   },
   "file_extension": ".py",
   "mimetype": "text/x-python",
   "name": "python",
   "nbconvert_exporter": "python",
   "pygments_lexer": "ipython3",
   "version": "3.9.12"
  }
 },
 "nbformat": 4,
 "nbformat_minor": 2
}
